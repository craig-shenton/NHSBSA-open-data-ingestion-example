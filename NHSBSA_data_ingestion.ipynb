{
  "nbformat": 4,
  "nbformat_minor": 0,
  "metadata": {
    "colab": {
      "provenance": [],
      "collapsed_sections": [],
      "authorship_tag": "ABX9TyNlA9ES8H5TGYXvGJ3str5w",
      "include_colab_link": true
    },
    "kernelspec": {
      "name": "python3",
      "display_name": "Python 3"
    },
    "language_info": {
      "name": "python"
    }
  },
  "cells": [
    {
      "cell_type": "markdown",
      "metadata": {
        "id": "view-in-github",
        "colab_type": "text"
      },
      "source": [
        "<a href=\"https://colab.research.google.com/github/craig-shenton/NHSBSA-open-data-ingestion-example/blob/main/NHSBSA_data_ingestion.ipynb\" target=\"_parent\"><img src=\"https://colab.research.google.com/assets/colab-badge.svg\" alt=\"Open In Colab\"/></a>"
      ]
    },
    {
      "cell_type": "markdown",
      "source": [
        "## Importing and cleaning open patient list size data (RF1.Patient List Size)from `catalyst.services.nhsbsa.nhs.uk\\`"
      ],
      "metadata": {
        "id": "_v0LJ9zV7Uj-"
      }
    },
    {
      "cell_type": "code",
      "execution_count": null,
      "metadata": {
        "id": "AS41Jybc61p0"
      },
      "outputs": [],
      "source": [
        "# import libs\n",
        "import glob\n",
        "import pandas as pd\n",
        "import openpyxl\n",
        "from datetime import datetime\n",
        " \n",
        "# specifying the path to excel files\n",
        "path = \"...\"\n",
        " \n",
        "# grab all excel files in the path\n",
        "file_list = glob.glob(path + \"/*.xlsx\")"
      ]
    },
    {
      "cell_type": "code",
      "source": [
        "# extract each sheet into one file\n",
        "\n",
        "excl_list = []\n",
        "skipList= list(range(0,8)) # Skip reading first 9 rows of bad data\n",
        "\n",
        "for file in file_list:\n",
        "    # Get data\n",
        "    data = pd.read_excel(file, skiprows= skipList, usecols= \"A:AA\", na_values= \"N/A\")\n",
        "    # Get date\n",
        "    wb = openpyxl.load_workbook(file)\n",
        "    sheet = wb.active\n",
        "    # covert 'date' cell to datetime-string\n",
        "    dateValue = sheet['A6'].value\n",
        "    dateValue = dateValue.replace('For ', '')\n",
        "    dateValue = datetime.strptime(dateValue, '%b-%y')\n",
        "    dateValue = str(dateValue.date())\n",
        "    data.insert(0, 'Date', dateValue)\n",
        "    # drop bad data rows\n",
        "    data.dropna(inplace=True)\n",
        "    excl_list.append(data)\n",
        "\n",
        "# concatenate all DataFrames in the list into a single DataFrame, returns new DataFrame.\n",
        "excl_merged = pd.concat(excl_list, ignore_index=True)"
      ],
      "metadata": {
        "id": "1d3CT-017BGl"
      },
      "execution_count": null,
      "outputs": []
    },
    {
      "cell_type": "code",
      "source": [
        "# Data cleaning\n",
        "\n",
        "excl_merged.rename(columns = {'Code':'Region_Code', 'Code.1':'STP_Code', 'Comm./Prov.':'ICB', 'Code.2':'ICB_Code', 'Code.3':'Practice_Code'}, inplace = True)\n",
        "excl_pivot = excl_merged.melt(id_vars=['Date', 'Region', 'Region_Code', 'STP', 'STP_Code', 'ICB', 'ICB_Code', 'Practice', 'Practice_Code'], var_name=\"Count\")"
      ],
      "metadata": {
        "id": "4Lrq-w-07C-1"
      },
      "execution_count": null,
      "outputs": []
    },
    {
      "cell_type": "code",
      "source": [
        "# Export to csv\n",
        "\n",
        "excl_pivot.to_csv('.../excl_merged.csv', index=False)"
      ],
      "metadata": {
        "id": "2oszdTzk7MKs"
      },
      "execution_count": null,
      "outputs": []
    }
  ]
}