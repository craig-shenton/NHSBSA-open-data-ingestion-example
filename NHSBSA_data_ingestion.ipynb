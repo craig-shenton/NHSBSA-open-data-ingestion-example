{
  "cells": [
    {
      "cell_type": "markdown",
      "metadata": {
        "colab_type": "text",
        "id": "view-in-github"
      },
      "source": [
        "<a href=\"https://colab.research.google.com/github/craig-shenton/NHSBSA-open-data-ingestion-example/blob/main/NHSBSA_data_ingestion.ipynb\" target=\"_parent\"><img src=\"https://colab.research.google.com/assets/colab-badge.svg\" alt=\"Open In Colab\"/></a>"
      ]
    },
    {
      "cell_type": "markdown",
      "metadata": {
        "id": "_v0LJ9zV7Uj-"
      },
      "source": [
        "## Importing and cleaning open patient list size data (RF1.Patient List Size)from `catalyst.services.nhsbsa.nhs.uk\\`"
      ]
    },
    {
      "cell_type": "code",
      "execution_count": null,
      "metadata": {
        "id": "AS41Jybc61p0"
      },
      "outputs": [],
      "source": [
        "# import libs\n",
        "import glob\n",
        "import pandas as pd\n",
        "import openpyxl\n",
        "from datetime import datetime\n",
        "\n",
        "# specifying the path to excel files\n",
        "path = \"data\"\n",
        "\n",
        "# grab all excel files in the path\n",
        "file_list = glob.glob(f\"{path}/*.xlsx\")\n",
        "file_list"
      ]
    },
    {
      "cell_type": "code",
      "execution_count": null,
      "metadata": {
        "id": "1d3CT-017BGl"
      },
      "outputs": [],
      "source": [
        "# extract each sheet into one file\n",
        "\n",
        "excl_list = []\n",
        "skipList = list(range(8))\n",
        "\n",
        "for file in file_list:\n",
        "    # Get data\n",
        "    data = pd.read_excel(file, skiprows= skipList, usecols= \"A:AA\", na_values= \"N/A\")\n",
        "    # Get date\n",
        "    wb = openpyxl.load_workbook(file)\n",
        "    sheet = wb.active\n",
        "    # covert 'date' cell to datetime-string\n",
        "    dateValue = sheet['A6'].value\n",
        "    dateValue = dateValue.replace('For ', '')\n",
        "    dateValue = datetime.strptime(dateValue, '%b-%y')\n",
        "    dateValue = str(dateValue.date())\n",
        "    data.insert(0, 'Date', dateValue)\n",
        "    # drop bad data rows\n",
        "    data.dropna(inplace=True)\n",
        "    excl_list.append(data)\n",
        "\n",
        "# concatenate all DataFrames in the list into a single DataFrame, returns new DataFrame.\n",
        "excl_merged = pd.concat(excl_list, ignore_index=True)"
      ]
    },
    {
      "cell_type": "code",
      "execution_count": null,
      "metadata": {
        "id": "4Lrq-w-07C-1"
      },
      "outputs": [],
      "source": [
        "# Data cleaning\n",
        "\n",
        "excl_merged.rename(columns = {'Code':'Region_Code', 'Code.1':'STP_Code', 'Comm./Prov.':'ICB', 'Code.2':'ICB_Code', 'Code.3':'Practice_Code'}, inplace = True)\n",
        "excl_pivot = excl_merged.melt(id_vars=['Date', 'Region', 'Region_Code', 'STP', 'STP_Code', 'ICB', 'ICB_Code', 'Practice', 'Practice_Code'], var_name=\"Count\")\n",
        "excl_pivot"
      ]
    },
    {
      "cell_type": "code",
      "execution_count": null,
      "metadata": {
        "id": "2oszdTzk7MKs"
      },
      "outputs": [],
      "source": [
        "# Export to csv\n",
        "from datetime import date\n",
        "\n",
        "# Get current date\n",
        "today = date.today().strftime(\"%Y-%m-%d\")\n",
        "\n",
        "# Create file name with current date\n",
        "file_name = f\"data/excl_merged_{today}.csv\"\n",
        "\n",
        "\n",
        "# Save DataFrame to CSV with file name\n",
        "\n",
        "excl_pivot.to_csv(file_name, index=False)"
      ]
    }
  ],
  "metadata": {
    "colab": {
      "authorship_tag": "ABX9TyNlA9ES8H5TGYXvGJ3str5w",
      "collapsed_sections": [],
      "include_colab_link": true,
      "provenance": []
    },
    "kernelspec": {
      "display_name": "Python 3",
      "language": "python",
      "name": "python3"
    },
    "language_info": {
      "codemirror_mode": {
        "name": "ipython",
        "version": 3
      },
      "file_extension": ".py",
      "mimetype": "text/x-python",
      "name": "python",
      "nbconvert_exporter": "python",
      "pygments_lexer": "ipython3",
      "version": "3.10.9"
    },
    "vscode": {
      "interpreter": {
        "hash": "b0fa6594d8f4cbf19f97940f81e996739fb7646882a419484c72d19e05852a7e"
      }
    }
  },
  "nbformat": 4,
  "nbformat_minor": 0
}
